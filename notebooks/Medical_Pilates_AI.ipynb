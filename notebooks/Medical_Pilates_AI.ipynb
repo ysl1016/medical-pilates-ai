{
 "cells": [
  {
   "cell_type": "markdown",
   "metadata": {
    "id": "introduction"
   },
   "source": [
    "# Medical Pilates AI Prescription System\n",
    "\n",
    "이 노트북은 의료 필라테스 AI 처방 시스템의 주요 기능을 구현하고 테스트하는 환경을 제공합니다.\n",
    "\n",
    "## 시스템 구성\n",
    "1. 한국어 텍스트 처리 (Korean Text Processing)\n",
    "2. RAG 시스템 (Retrieval-Augmented Generation)\n",
    "3. 운동 데이터베이스 관리 (Exercise Database Management)\n",
    "4. 웹 인터페이스 (Gradio Web Interface)\n",
    "\n",
    "## 설정 방법\n",
    "1. GitHub 저장소 클론\n",
    "2. 필요한 패키지 설치\n",
    "3. 환경 변수 설정\n",
    "4. 모델 초기화"
   ]
  },
  {
   "cell_type": "markdown",
   "metadata": {
    "id": "setup"
   },
   "source": [
    "## 1. 초기 설정\n",
    "\n",
    "### 1.1 GitHub 저장소 클론 및 패키지 설치"
   ]
  },
  {
   "cell_type": "code",
   "execution_count": null,
   "metadata": {
    "id": "clone-repo"
   },
   "outputs": [],
   "source": [
    "!git clone https://github.com/ysl1016/medical-pilates-ai.git\n",
    "%cd medical-pilates-ai\n",
    "!pip install -r requirements.txt"
   ]
  },
  {
   "cell_type": "markdown",
   "metadata": {
    "id": "env-setup"
   },
   "source": [
    "### 1.2 환경 변수 설정\n",
    "필요한 API 키와 환경 설정을 진행합니다."
   ]
  },
  {
   "cell_type": "code",
   "execution_count": null,
   "metadata": {
    "id": "set-env"
   },
   "outputs": [],
   "source": [
    "import os\n",
    "from dotenv import load_dotenv\n",
    "\n",
    "# API 키 설정\n",
    "os.environ[\"OPENAI_API_KEY\"] = \"your-openai-api-key\"  # 실제 키로 교체 필요\n",
    "os.environ[\"APP_ENV\"] = \"development\"\n",
    "\n",
    "# 시스템 설정 로드\n",
    "from config.settings import get_config\n",
    "config = get_config()\n",
    "config.initialize()"
   ]
  },
  {
   "cell_type": "markdown",
   "metadata": {
    "id": "import-modules"
   },
   "source": [
    "### 1.3 필요한 모듈 임포트"
   ]
  },
  {
   "cell_type": "code",
   "execution_count": null,
   "metadata": {
    "id": "imports"
   },
   "outputs": [],
   "source": [
    "from src.korean_utils import KoreanTextProcessor\n",
    "from src.rag_utils import RAGSystem\n",
    "from src.exercise_db import ExerciseDatabase, Exercise\n",
    "\n",
    "# 클래스 초기화\n",
    "korean_processor = KoreanTextProcessor()\n",
    "exercise_db = ExerciseDatabase()\n",
    "rag_system = RAGSystem()"
   ]
  },
  {
   "cell_type": "markdown",
   "metadata": {
    "id": "test-basic"
   },
   "source": [
    "## 2. 기본 기능 테스트\n",
    "\n",
    "### 2.1 한국어 처리 테스트"
   ]
  },
  {
   "cell_type": "code",
   "execution_count": null,
   "metadata": {
    "id": "korean-test"
   },
   "outputs": [],
   "source": [
    "# 한국어 텍스트 처리 테스트\n",
    "test_text = \"\"\"\n",
    "필라테스는 코어 강화와 자세 교정에 효과적인 운동입니다.\n",
    "특히 허리 통증 환자들에게 추천되는 운동 방법입니다.\n",
    "\"\"\"\n",
    "\n",
    "# 번역 테스트\n",
    "english_text = korean_processor.translate_ko_to_en(test_text)\n",
    "print(\"영어 번역:\", english_text)\n",
    "\n",
    "# 키워드 추출 테스트\n",
    "keywords = korean_processor.extract_keywords(test_text)\n",
    "print(\"추출된 키워드:\", keywords)"
   ]
  },
  {
   "cell_type": "markdown",
   "metadata": {
    "id": "test-exercise-db"
   },
   "source": [
    "### 2.2 운동 데이터베이스 테스트"
   ]
  },
  {
   "cell_type": "code",
   "execution_count": null,
   "metadata": {
    "id": "db-test"
   },
   "outputs": [],
   "source": [
    "# 운동 검색 테스트\n",
    "beginner_exercises = exercise_db.search_exercises(difficulty=\"beginner\")\n",
    "print(\"초급 운동 목록:\")\n",
    "for exercise in beginner_exercises:\n",
    "    print(f\"- {exercise.name_ko} ({exercise.difficulty_level})\")\n",
    "\n",
    "# 운동 통계 확인\n",
    "stats = exercise_db.get_exercise_statistics()\n",
    "print(\"\\n운동 데이터베이스 통계:\")\n",
    "print(json.dumps(stats, indent=2, ensure_ascii=False))"
   ]
  },
  {
   "cell_type": "markdown",
   "metadata": {
    "id": "test-rag"
   },
   "source": [
    "### 2.3 RAG 시스템 테스트"
   ]
  },
  {
   "cell_type": "code",
   "execution_count": null,
   "metadata": {
    "id": "rag-test"
   },
   "outputs": [],
   "source": [
    "# 질문-답변 테스트\n",
    "query = \"허리 통증이 있는 초보자에게 추천하는 필라테스 동작은 무엇인가요?\"\n",
    "response = rag_system.generate_response(query)\n",
    "print(\"질문:\", query)\n",
    "print(\"\\n답변:\", response)"
   ]
  },
  {
   "cell_type": "markdown",
   "metadata": {
    "id": "gradio-interface"
   },
   "source": [
    "## 3. Gradio 웹 인터페이스\n",
    "\n",
    "사용자 친화적인 웹 인터페이스를 구현합니다."
   ]
  },
  {
   "cell_type": "code",
   "execution_count": null,
   "metadata": {
    "id": "gradio-impl"
   },
   "outputs": [],
   "source": [
    "import gradio as gr\n",
    "\n",
    "def process_query(query: str, pain_level: int, experience_level: str):\n",
    "    # 사용자 입력 처리\n",
    "    context = {\n",
    "        \"pain_level\": pain_level,\n",
    "        \"experience_level\": experience_level\n",
    "    }\n",
    "    \n",
    "    # RAG 시스템을 통한 응답 생성\n",
    "    response = rag_system.generate_response(query, context)\n",
    "    \n",
    "    # 추천 운동 검색\n",
    "    recommended_exercises = exercise_db.search_exercises(\n",
    "        difficulty=\"beginner\" if experience_level == \"초보자\" else \"intermediate\"\n",
    "    )\n",
    "    \n",
    "    # 응답 포맷팅\n",
    "    formatted_response = f\"\"\"\n",
    "답변: {response}\n",
    "\n",
    "추천 운동:\n",
    "{''.join([f'- {ex.name_ko}\\n' for ex in recommended_exercises[:3]])}\n",
    "\n",
    "주의사항: 운동 시 통증이 발생하면 즉시 중단하고 전문가와 상담하세요.\n",
    "\"\"\"\n",
    "    \n",
    "    return formatted_response\n",
    "\n",
    "# Gradio 인터페이스 생성\n",
    "iface = gr.Interface(\n",
    "    fn=process_query,\n",
    "    inputs=[\n",
    "        gr.Textbox(label=\"질문을 입력하세요\"),\n",
    "        gr.Slider(minimum=0, maximum=10, step=1, label=\"통증 수준 (0-10)\"),\n",
    "        gr.Radio([\"초보자\", \"중급자\", \"상급자\"], label=\"운동 경험\")\n",
    "    ],\n",
    "    outputs=gr.Textbox(label=\"AI 응답\"),\n",
    "    title=\"의료 필라테스 AI 상담 시스템\",\n",
    "    description=\"환자의 상태와 경험 수준에 맞는 필라테스 운동을 추천해드립니다.\"\n",
    ")\n",
    "\n",
    "# 인터페이스 실행\n",
    "iface.launch(share=True)"
   ]
  },
  {
   "cell_type": "markdown",
   "metadata": {
    "id": "conclusion"
   },
   "source": [
    "## 마무리\n",
    "\n",
    "이 노트북에서는 의료 필라테스 AI 시스템의 주요 기능을 테스트하고 웹 인터페이스를 구현했습니다.\n",
    "\n",
    "### 주요 기능\n",
    "1. 한국어 자연어 처리\n",
    "2. 운동 데이터베이스 관리\n",
    "3. RAG 기반 질의응답\n",
    "4. 웹 기반 사용자 인터페이스\n",
    "\n",
    "### 다음 단계\n",
    "1. 더 많은 운동 데이터 추가\n",
    "2. 모델 성능 개선\n",
    "3. 사용자 피드백 수집 및 분석\n",
    "4. 시스템 확장 및 개선"
   ]
  }
 ],
 "metadata": {
  "accelerator": "GPU",
  "colab": {
   "name": "Medical_Pilates_AI.ipynb",
   "private_outputs": true,
   "provenance": []
  },
  "kernelspec": {
   "display_name": "Python 3",
   "language": "python",
   "name": "python3"
  },
  "language_info": {
   "codemirror_mode": {
    "name": "ipython",
    "version": 3
   },
   "file_extension": ".py",
   "mimetype": "text/x-python",
   "name": "python",
   "nbconvert_exporter": "python",
   "pygments_lexer": "ipython3",
   "version": "3.8.0"
  }
 },
 "nbformat": 4,
 "nbformat_minor": 4
}